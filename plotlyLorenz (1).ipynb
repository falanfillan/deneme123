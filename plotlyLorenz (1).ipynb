{
 "cells": [
  {
   "cell_type": "code",
   "execution_count": 2,
   "id": "2b56f563-810e-47a7-bc09-6f80a10dedd5",
   "metadata": {},
   "outputs": [
    {
     "data": {
      "text/html": [
       "\n",
       "        <iframe\n",
       "            width=\"100%\"\n",
       "            height=\"650\"\n",
       "            src=\"http://127.0.0.1:8050/\"\n",
       "            frameborder=\"0\"\n",
       "            allowfullscreen\n",
       "            \n",
       "        ></iframe>\n",
       "        "
      ],
      "text/plain": [
       "<IPython.lib.display.IFrame at 0x2b5ee629bb0>"
      ]
     },
     "metadata": {},
     "output_type": "display_data"
    }
   ],
   "source": [
    "\n",
    "import numpy as np\n",
    "from dash import Dash, html, dcc, Input, Output, State, clientside_callback\n",
    "\n",
    "# Example from https://stackoverflow.com/a/63681810/2428887\n",
    "resolution = 1000\n",
    "t = np.linspace(0, np.pi * 2, resolution)\n",
    "x, y = np.cos(t), np.sin(t)  # example data (a circle)\n",
    "figure = dict(\n",
    "    data=[{\"x\": [], \"y\": []}],\n",
    "    layout=dict(xaxis=dict(range=[-1, 1]), yaxis=dict(range=[-1, 1])),\n",
    ")\n",
    "app = Dash(__name__, update_title=None)  # remove \"Updating...\" from title\n",
    "app.layout = html.Div(\n",
    "    [\n",
    "        html.H4(\"Smooth updates using clientside callbacks\"),\n",
    "        dcc.Graph(id=\"graph\", figure=dict(figure)),\n",
    "        dcc.Interval(id=\"interval\", interval=25, max_intervals=200),\n",
    "        dcc.Store(id=\"offset\", data=0),\n",
    "        dcc.Store(id=\"store\", data=dict(x=x, y=y, resolution=resolution)),\n",
    "    ]\n",
    ")\n",
    "clientside_callback(\n",
    "    \"\"\"\n",
    "    function (n_intervals, data, offset) {\n",
    "        offset = offset % data.x.length;\n",
    "        const end = Math.min((offset + 10), data.x.length);\n",
    "        return [[{x: [data.x.slice(offset, end)], y: [data.y.slice(offset, end)]}, [0], 500], end]\n",
    "    }\n",
    "    \"\"\",\n",
    "    [\n",
    "        Output(\"graph\", \"extendData\"),\n",
    "        Output(\"offset\", \"data\"),\n",
    "    ],\n",
    "    [Input(\"interval\", \"n_intervals\")],\n",
    "    [State(\"store\", \"data\"), State(\"offset\", \"data\")],\n",
    ")\n",
    "\n",
    "if __name__ == \"__main__\":\n",
    "    app.run_server()"
   ]
  },
  {
   "cell_type": "code",
   "execution_count": 3,
   "id": "dbcb9ffe-f9ef-4765-b50f-e08dfff80083",
   "metadata": {},
   "outputs": [
    {
     "data": {
      "text/html": [
       "\n",
       "        <iframe\n",
       "            width=\"100%\"\n",
       "            height=\"650\"\n",
       "            src=\"http://127.0.0.1:8050/\"\n",
       "            frameborder=\"0\"\n",
       "            allowfullscreen\n",
       "            \n",
       "        ></iframe>\n",
       "        "
      ],
      "text/plain": [
       "<IPython.lib.display.IFrame at 0x2b5f3351b20>"
      ]
     },
     "metadata": {},
     "output_type": "display_data"
    }
   ],
   "source": [
    "import numpy as np\n",
    "from dash import Dash, html, dcc, Input, Output, clientside_callback\n",
    "from scipy.integrate import solve_ivp\n",
    "\n",
    "# Lorenz equations\n",
    "def lorenz(t, state, sigma=10, rho=28, beta=8/3):\n",
    "    x, y, z = state\n",
    "    dxdt = sigma * (y - x)\n",
    "    dydt = x * (rho - z) - y\n",
    "    dzdt = x * y - beta * z\n",
    "    return [dxdt, dydt, dzdt]\n",
    "\n",
    "# Solve Lorenz equations\n",
    "sol = solve_ivp(lorenz, [0, 100], [0.1, 0.1, 0.1], t_eval=np.linspace(0, 100, 10000))\n",
    "\n",
    "# Prepare data for plotting\n",
    "x, y, z = sol.y\n",
    "\n",
    "figure = dict(\n",
    "    data=[{\"x\": [], \"y\": [], 'mode': 'markers', 'marker': {'color': 'red', 'size': 10}, 'name': 'Start'},\n",
    "          {\"x\": [], \"y\": [], 'mode': 'markers', 'marker': {'color': 'blue', 'size': 10}, 'name': 'End'}],\n",
    "    layout=dict(xaxis=dict(range=[-25, 25]), yaxis=dict(range=[-25, 25])),\n",
    ")\n",
    "\n",
    "app = Dash(__name__, update_title=None)\n",
    "app.layout = html.Div(\n",
    "    [\n",
    "        html.H4(\"Lorenz System\"),\n",
    "        dcc.Graph(id=\"graph\", figure=dict(figure)),\n",
    "        dcc.Interval(id=\"interval\", interval=25, max_intervals=400),\n",
    "        dcc.Store(id=\"offset\", data=0),\n",
    "        dcc.Store(id=\"store\", data=dict(x=x, y=y)),\n",
    "    ]\n",
    ")\n",
    "\n",
    "clientside_callback(\n",
    "    \"\"\"\n",
    "    function (n_intervals, data, offset) {\n",
    "        offset = offset % data.x.length;\n",
    "        const end = Math.min((offset + 10), data.x.length);\n",
    "        return [[{x: [data.x.slice(offset, end)], y: [data.y.slice(offset, end)]}, [0], 500], end]\n",
    "    }\n",
    "    \"\"\",\n",
    "    [\n",
    "        Output(\"graph\", \"extendData\"),\n",
    "        Output(\"offset\", \"data\"),\n",
    "    ],\n",
    "    [Input(\"interval\", \"n_intervals\")],\n",
    "    [State(\"store\", \"data\"), State(\"offset\", \"data\")],\n",
    ")\n",
    "\n",
    "@app.callback(\n",
    "    Output(\"graph\", \"extendData\"),\n",
    "    [Input(\"interval\", \"n_intervals\")],\n",
    "    [State(\"store\", \"data\"), State(\"offset\", \"data\")]\n",
    ")\n",
    "def update_trace(n_intervals, data, offset):\n",
    "    offset = offset % len(data['x'])\n",
    "    end = min(offset + 10, len(data['x']))\n",
    "\n",
    "    extend_data = {\n",
    "        'x[0]': [[data['x'][0]]],\n",
    "        'y[0]': [[data['y'][0]]],\n",
    "        'x[1]': [[data['x'][-1]]],\n",
    "        'y[1]': [[data['y'][-1]]]\n",
    "    }\n",
    "\n",
    "    return extend_data\n",
    "\n",
    "if __name__ == \"__main__\":\n",
    "    app.run_server()\n"
   ]
  },
  {
   "cell_type": "code",
   "execution_count": 4,
   "id": "1ca9de24",
   "metadata": {},
   "outputs": [
    {
     "name": "stdout",
     "output_type": "stream",
     "text": [
      "Requirement already satisfied: dash in c:\\users\\canok\\.conda\\envs\\yazilim\\lib\\site-packages (2.16.1)\n",
      "Requirement already satisfied: Flask<3.1,>=1.0.4 in c:\\users\\canok\\.conda\\envs\\yazilim\\lib\\site-packages (from dash) (3.0.2)\n",
      "Requirement already satisfied: Werkzeug<3.1 in c:\\users\\canok\\.conda\\envs\\yazilim\\lib\\site-packages (from dash) (3.0.1)\n",
      "Requirement already satisfied: plotly>=5.0.0 in c:\\users\\canok\\.conda\\envs\\yazilim\\lib\\site-packages (from dash) (5.20.0)\n",
      "Requirement already satisfied: dash-html-components==2.0.0 in c:\\users\\canok\\.conda\\envs\\yazilim\\lib\\site-packages (from dash) (2.0.0)\n",
      "Requirement already satisfied: dash-core-components==2.0.0 in c:\\users\\canok\\.conda\\envs\\yazilim\\lib\\site-packages (from dash) (2.0.0)\n",
      "Requirement already satisfied: dash-table==5.0.0 in c:\\users\\canok\\.conda\\envs\\yazilim\\lib\\site-packages (from dash) (5.0.0)\n",
      "Requirement already satisfied: importlib-metadata in c:\\users\\canok\\.conda\\envs\\yazilim\\lib\\site-packages (from dash) (7.0.1)\n",
      "Requirement already satisfied: typing-extensions>=4.1.1 in c:\\users\\canok\\.conda\\envs\\yazilim\\lib\\site-packages (from dash) (4.9.0)\n",
      "Requirement already satisfied: requests in c:\\users\\canok\\.conda\\envs\\yazilim\\lib\\site-packages (from dash) (2.31.0)\n",
      "Requirement already satisfied: retrying in c:\\users\\canok\\.conda\\envs\\yazilim\\lib\\site-packages (from dash) (1.3.4)\n",
      "Requirement already satisfied: nest-asyncio in c:\\users\\canok\\.conda\\envs\\yazilim\\lib\\site-packages (from dash) (1.6.0)\n",
      "Requirement already satisfied: setuptools in c:\\users\\canok\\.conda\\envs\\yazilim\\lib\\site-packages (from dash) (68.2.2)\n",
      "Requirement already satisfied: Jinja2>=3.1.2 in c:\\users\\canok\\.conda\\envs\\yazilim\\lib\\site-packages (from Flask<3.1,>=1.0.4->dash) (3.1.3)\n",
      "Requirement already satisfied: itsdangerous>=2.1.2 in c:\\users\\canok\\.conda\\envs\\yazilim\\lib\\site-packages (from Flask<3.1,>=1.0.4->dash) (2.1.2)\n",
      "Requirement already satisfied: click>=8.1.3 in c:\\users\\canok\\.conda\\envs\\yazilim\\lib\\site-packages (from Flask<3.1,>=1.0.4->dash) (8.1.7)\n",
      "Requirement already satisfied: blinker>=1.6.2 in c:\\users\\canok\\.conda\\envs\\yazilim\\lib\\site-packages (from Flask<3.1,>=1.0.4->dash) (1.6.2)\n",
      "Requirement already satisfied: zipp>=0.5 in c:\\users\\canok\\.conda\\envs\\yazilim\\lib\\site-packages (from importlib-metadata->dash) (3.17.0)\n",
      "Requirement already satisfied: tenacity>=6.2.0 in c:\\users\\canok\\.conda\\envs\\yazilim\\lib\\site-packages (from plotly>=5.0.0->dash) (8.2.3)\n",
      "Requirement already satisfied: packaging in c:\\users\\canok\\.conda\\envs\\yazilim\\lib\\site-packages (from plotly>=5.0.0->dash) (23.1)\n",
      "Requirement already satisfied: MarkupSafe>=2.1.1 in c:\\users\\canok\\.conda\\envs\\yazilim\\lib\\site-packages (from Werkzeug<3.1->dash) (2.1.3)\n",
      "Requirement already satisfied: charset-normalizer<4,>=2 in c:\\users\\canok\\.conda\\envs\\yazilim\\lib\\site-packages (from requests->dash) (2.0.4)\n",
      "Requirement already satisfied: idna<4,>=2.5 in c:\\users\\canok\\.conda\\envs\\yazilim\\lib\\site-packages (from requests->dash) (3.4)\n",
      "Requirement already satisfied: urllib3<3,>=1.21.1 in c:\\users\\canok\\.conda\\envs\\yazilim\\lib\\site-packages (from requests->dash) (2.1.0)\n",
      "Requirement already satisfied: certifi>=2017.4.17 in c:\\users\\canok\\.conda\\envs\\yazilim\\lib\\site-packages (from requests->dash) (2024.2.2)\n",
      "Requirement already satisfied: six>=1.7.0 in c:\\users\\canok\\.conda\\envs\\yazilim\\lib\\site-packages (from retrying->dash) (1.16.0)\n",
      "Requirement already satisfied: colorama in c:\\users\\canok\\.conda\\envs\\yazilim\\lib\\site-packages (from click>=8.1.3->Flask<3.1,>=1.0.4->dash) (0.4.6)\n",
      "Note: you may need to restart the kernel to use updated packages.\n"
     ]
    }
   ],
   "source": [
    "pip install dash"
   ]
  },
  {
   "cell_type": "code",
   "execution_count": 5,
   "id": "01b503b8-189f-49cb-bbb4-c35b59baacbb",
   "metadata": {},
   "outputs": [
    {
     "data": {
      "text/html": [
       "\n",
       "        <iframe\n",
       "            width=\"100%\"\n",
       "            height=\"650\"\n",
       "            src=\"http://127.0.0.1:8050/\"\n",
       "            frameborder=\"0\"\n",
       "            allowfullscreen\n",
       "            \n",
       "        ></iframe>\n",
       "        "
      ],
      "text/plain": [
       "<IPython.lib.display.IFrame at 0x2b5f292ea00>"
      ]
     },
     "metadata": {},
     "output_type": "display_data"
    }
   ],
   "source": [
    "import numpy as np\n",
    "from dash import Dash, html, dcc, Input, Output, clientside_callback\n",
    "from scipy.integrate import solve_ivp\n",
    "\n",
    "# Lorenz equations\n",
    "def lorenz(t, state, sigma=10, rho=28, beta=8/3):\n",
    "    x, y, z = state\n",
    "    dxdt = sigma * (y - x)\n",
    "    dydt = x * (rho - z) - y\n",
    "    dzdt = x * y - beta * z\n",
    "    return [dxdt, dydt, dzdt]\n",
    "\n",
    "# Solve Lorenz equations\n",
    "sol = solve_ivp(lorenz, [0, 100], [0.1, 0.1, 0.1], t_eval=np.linspace(0, 100, 10000))\n",
    "\n",
    "# Prepare data for plotting\n",
    "x, y, z = sol.y\n",
    "\n",
    "figure = dict(\n",
    "    data=[{\"x\": [], \"y\": []}],\n",
    "    layout=dict(xaxis=dict(range=[-25, 25]), yaxis=dict(range=[-25, 25])),\n",
    ")\n",
    "\n",
    "app = Dash(__name__, update_title=None)\n",
    "app.layout = html.Div(\n",
    "    [\n",
    "        html.H4(\"Lorenz System\"),\n",
    "        dcc.Graph(id=\"graph\", figure=dict(figure)),\n",
    "        dcc.Interval(id=\"interval\", interval=25, max_intervals=400),\n",
    "        dcc.Store(id=\"offset\", data=0),\n",
    "        dcc.Store(id=\"store\", data=dict(x=x, y=y)),\n",
    "    ]\n",
    ")\n",
    "\n",
    "clientside_callback(\n",
    "    \"\"\"\n",
    "    function (n_intervals, data, offset) {\n",
    "        offset = offset % data.x.length;\n",
    "        const end = Math.min((offset + 10), data.x.length);\n",
    "        return [[{x: [data.x.slice(offset, end)], y: [data.y.slice(offset, end)]}, [0], 500], end]\n",
    "    }\n",
    "    \"\"\",\n",
    "    [\n",
    "        Output(\"graph\", \"extendData\"),\n",
    "        Output(\"offset\", \"data\"),\n",
    "    ],\n",
    "    [Input(\"interval\", \"n_intervals\")],\n",
    "    [State(\"store\", \"data\"), State(\"offset\", \"data\")],\n",
    ")\n",
    "\n",
    "if __name__ == \"__main__\":\n",
    "    app.run_server()\n"
   ]
  },
  {
   "cell_type": "code",
   "execution_count": null,
   "id": "6846323e-daed-487f-bdce-6382bc1bf792",
   "metadata": {},
   "outputs": [],
   "source": []
  },
  {
   "cell_type": "code",
   "execution_count": null,
   "id": "e23f41a6",
   "metadata": {},
   "outputs": [],
   "source": []
  }
 ],
 "metadata": {
  "kernelspec": {
   "display_name": "Python 3 (ipykernel)",
   "language": "python",
   "name": "python3"
  },
  "language_info": {
   "codemirror_mode": {
    "name": "ipython",
    "version": 3
   },
   "file_extension": ".py",
   "mimetype": "text/x-python",
   "name": "python",
   "nbconvert_exporter": "python",
   "pygments_lexer": "ipython3",
   "version": "3.9.18"
  }
 },
 "nbformat": 4,
 "nbformat_minor": 5
}
